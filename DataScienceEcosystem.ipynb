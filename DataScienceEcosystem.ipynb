{
  "metadata": {
    "kernelspec": {
      "name": "python",
      "display_name": "Python (Pyodide)",
      "language": "python"
    },
    "language_info": {
      "codemirror_mode": {
        "name": "python",
        "version": 3
      },
      "file_extension": ".py",
      "mimetype": "text/x-python",
      "name": "python",
      "nbconvert_exporter": "python",
      "pygments_lexer": "ipython3",
      "version": "3.8"
    }
  },
  "nbformat_minor": 4,
  "nbformat": 4,
  "cells": [
    {
      "cell_type": "markdown",
      "source": "# Data Science Tools and Ecosystem",
      "metadata": {}
    },
    {
      "cell_type": "markdown",
      "source": "### En este cuaderno se resumen las herramientas y ecosistemas de ciencia de datos:",
      "metadata": {}
    },
    {
      "cell_type": "markdown",
      "source": "## *Objetivos*:",
      "metadata": {}
    },
    {
      "cell_type": "markdown",
      "source": "* Aprender como poner titulos de distintas categorias\n* Aprender como enlistar items ordenados\n* Aprender como enlistar items desordenados\n* Aprender a hacer tablas\n* Aprender a hacer operaciones\n",
      "metadata": {}
    },
    {
      "cell_type": "markdown",
      "source": "#### Algunos de los lenguajes populares que se usa cientificos de datos son:\n* Java\n* Julia\n* Scada\n* C/C++\n* Java Script\n* MATLAB",
      "metadata": {}
    },
    {
      "cell_type": "markdown",
      "source": "#### Algunas de las bibliotecas comunmente usadas por cientificos de datos son:\n1. NumPy\n2. Pandas\n3. MatPlotlib\n4. Seborn\n5. Plotly\n6. Scitick-learn",
      "metadata": {}
    },
    {
      "cell_type": "markdown",
      "source": "|Herramientas de ciencia de datos|\n|--------------------------------|\n|Matplotlib|\n|Apache Spark|\n|Apache Hadoop|",
      "metadata": {}
    },
    {
      "cell_type": "markdown",
      "source": "### A continuación, se presentan algunos ejemplos de evaluación de expresiones aritméticas en Python",
      "metadata": {
        "scrolled": true
      }
    },
    {
      "cell_type": "code",
      "source": "(3*4)+5",
      "metadata": {
        "trusted": true
      },
      "outputs": [
        {
          "execution_count": 3,
          "output_type": "execute_result",
          "data": {
            "text/plain": "17"
          },
          "metadata": {}
        }
      ],
      "execution_count": 3
    },
    {
      "cell_type": "markdown",
      "source": "### Esto convertirá 200 minutos a horas dividiendo por 60",
      "metadata": {}
    },
    {
      "cell_type": "code",
      "source": "200/60\n",
      "metadata": {
        "trusted": true
      },
      "outputs": [
        {
          "execution_count": 23,
          "output_type": "execute_result",
          "data": {
            "text/plain": "3.3333333333333335"
          },
          "metadata": {}
        }
      ],
      "execution_count": 23
    },
    {
      "cell_type": "markdown",
      "source": "## Autor:\nFrancisco Burbano Terneus",
      "metadata": {}
    },
    {
      "cell_type": "code",
      "source": "",
      "metadata": {
        "trusted": true
      },
      "outputs": [],
      "execution_count": null
    }
  ]
}